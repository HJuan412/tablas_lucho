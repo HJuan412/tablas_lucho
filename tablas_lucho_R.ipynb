{
 "cells": [
  {
   "cell_type": "code",
   "execution_count": 5,
   "id": "6f712b89-1025-4e43-9c67-2fae0dfb3564",
   "metadata": {},
   "outputs": [
    {
     "data": {
      "text/html": [
       "<table class=\"dataframe\">\n",
       "<caption>A data.frame: 4 × 4</caption>\n",
       "<thead>\n",
       "\t<tr><th></th><th scope=col>exp1</th><th scope=col>exp2</th><th scope=col>exp3</th><th scope=col>exp4</th></tr>\n",
       "\t<tr><th></th><th scope=col>&lt;chr&gt;</th><th scope=col>&lt;chr&gt;</th><th scope=col>&lt;chr&gt;</th><th scope=col>&lt;chr&gt;</th></tr>\n",
       "</thead>\n",
       "<tbody>\n",
       "\t<tr><th scope=row>1</th><td>a00001</td><td>a00001</td><td>a00001</td><td>a00005</td></tr>\n",
       "\t<tr><th scope=row>2</th><td>a00002</td><td>a00005</td><td>a00002</td><td>a00006</td></tr>\n",
       "\t<tr><th scope=row>3</th><td>a00003</td><td>a00006</td><td>a00004</td><td>a00007</td></tr>\n",
       "\t<tr><th scope=row>4</th><td>a00004</td><td>a00007</td><td>a00008</td><td>a00008</td></tr>\n",
       "</tbody>\n",
       "</table>\n"
      ],
      "text/latex": [
       "A data.frame: 4 × 4\n",
       "\\begin{tabular}{r|llll}\n",
       "  & exp1 & exp2 & exp3 & exp4\\\\\n",
       "  & <chr> & <chr> & <chr> & <chr>\\\\\n",
       "\\hline\n",
       "\t1 & a00001 & a00001 & a00001 & a00005\\\\\n",
       "\t2 & a00002 & a00005 & a00002 & a00006\\\\\n",
       "\t3 & a00003 & a00006 & a00004 & a00007\\\\\n",
       "\t4 & a00004 & a00007 & a00008 & a00008\\\\\n",
       "\\end{tabular}\n"
      ],
      "text/markdown": [
       "\n",
       "A data.frame: 4 × 4\n",
       "\n",
       "| <!--/--> | exp1 &lt;chr&gt; | exp2 &lt;chr&gt; | exp3 &lt;chr&gt; | exp4 &lt;chr&gt; |\n",
       "|---|---|---|---|---|\n",
       "| 1 | a00001 | a00001 | a00001 | a00005 |\n",
       "| 2 | a00002 | a00005 | a00002 | a00006 |\n",
       "| 3 | a00003 | a00006 | a00004 | a00007 |\n",
       "| 4 | a00004 | a00007 | a00008 | a00008 |\n",
       "\n"
      ],
      "text/plain": [
       "  exp1   exp2   exp3   exp4  \n",
       "1 a00001 a00001 a00001 a00005\n",
       "2 a00002 a00005 a00002 a00006\n",
       "3 a00003 a00006 a00004 a00007\n",
       "4 a00004 a00007 a00008 a00008"
      ]
     },
     "metadata": {},
     "output_type": "display_data"
    }
   ],
   "source": [
    "# cargamos la tabla experimental\n",
    "tab <- read.table('/home/hernan/Documents/example_tab.txt', sep='\\t', header=TRUE) # poner entre comillas el path a la tabla\n",
    "head(tab)"
   ]
  },
  {
   "cell_type": "code",
   "execution_count": 18,
   "id": "afe7716f-4aa0-45b4-a3b6-a8e9c7b0d51a",
   "metadata": {},
   "outputs": [
    {
     "data": {
      "text/html": [
       "<style>\n",
       ".list-inline {list-style: none; margin:0; padding: 0}\n",
       ".list-inline>li {display: inline-block}\n",
       ".list-inline>li:not(:last-child)::after {content: \"\\00b7\"; padding: 0 .5ex}\n",
       "</style>\n",
       "<ol class=list-inline><li>'exp1'</li><li>'exp2'</li><li>'exp3'</li><li>'exp4'</li></ol>\n"
      ],
      "text/latex": [
       "\\begin{enumerate*}\n",
       "\\item 'exp1'\n",
       "\\item 'exp2'\n",
       "\\item 'exp3'\n",
       "\\item 'exp4'\n",
       "\\end{enumerate*}\n"
      ],
      "text/markdown": [
       "1. 'exp1'\n",
       "2. 'exp2'\n",
       "3. 'exp3'\n",
       "4. 'exp4'\n",
       "\n",
       "\n"
      ],
      "text/plain": [
       "[1] \"exp1\" \"exp2\" \"exp3\" \"exp4\""
      ]
     },
     "metadata": {},
     "output_type": "display_data"
    }
   ],
   "source": [
    "# extraemos los nombres de las columnas (experimentos)\n",
    "experimentos <- colnames(tab)\n",
    "experimentos"
   ]
  },
  {
   "cell_type": "code",
   "execution_count": 14,
   "id": "5208d1d6-3af2-4357-a3f6-9ead6fb88ac2",
   "metadata": {},
   "outputs": [
    {
     "data": {
      "text/html": [
       "<style>\n",
       ".list-inline {list-style: none; margin:0; padding: 0}\n",
       ".list-inline>li {display: inline-block}\n",
       ".list-inline>li:not(:last-child)::after {content: \"\\00b7\"; padding: 0 .5ex}\n",
       "</style>\n",
       "<ol class=list-inline><li>'a00001'</li><li>'a00002'</li><li>'a00003'</li><li>'a00004'</li><li>'a00005'</li><li>'a00006'</li><li>'a00007'</li><li>'a00008'</li></ol>\n"
      ],
      "text/latex": [
       "\\begin{enumerate*}\n",
       "\\item 'a00001'\n",
       "\\item 'a00002'\n",
       "\\item 'a00003'\n",
       "\\item 'a00004'\n",
       "\\item 'a00005'\n",
       "\\item 'a00006'\n",
       "\\item 'a00007'\n",
       "\\item 'a00008'\n",
       "\\end{enumerate*}\n"
      ],
      "text/markdown": [
       "1. 'a00001'\n",
       "2. 'a00002'\n",
       "3. 'a00003'\n",
       "4. 'a00004'\n",
       "5. 'a00005'\n",
       "6. 'a00006'\n",
       "7. 'a00007'\n",
       "8. 'a00008'\n",
       "\n",
       "\n"
      ],
      "text/plain": [
       "[1] \"a00001\" \"a00002\" \"a00003\" \"a00004\" \"a00005\" \"a00006\" \"a00007\" \"a00008\""
      ]
     },
     "metadata": {},
     "output_type": "display_data"
    }
   ],
   "source": [
    "# extraemos nombres de genes únicos\n",
    "genes <- unique(unlist(tab))\n",
    "genes"
   ]
  },
  {
   "cell_type": "code",
   "execution_count": 20,
   "id": "11609f6d-bf68-41a0-aa07-224bc47f9279",
   "metadata": {},
   "outputs": [
    {
     "data": {
      "text/html": [
       "<table class=\"dataframe\">\n",
       "<caption>A data.frame: 8 × 4</caption>\n",
       "<thead>\n",
       "\t<tr><th></th><th scope=col>exp1</th><th scope=col>exp2</th><th scope=col>exp3</th><th scope=col>exp4</th></tr>\n",
       "\t<tr><th></th><th scope=col>&lt;dbl&gt;</th><th scope=col>&lt;dbl&gt;</th><th scope=col>&lt;dbl&gt;</th><th scope=col>&lt;dbl&gt;</th></tr>\n",
       "</thead>\n",
       "<tbody>\n",
       "\t<tr><th scope=row>a00001</th><td>0</td><td>0</td><td>0</td><td>0</td></tr>\n",
       "\t<tr><th scope=row>a00002</th><td>0</td><td>0</td><td>0</td><td>0</td></tr>\n",
       "\t<tr><th scope=row>a00003</th><td>0</td><td>0</td><td>0</td><td>0</td></tr>\n",
       "\t<tr><th scope=row>a00004</th><td>0</td><td>0</td><td>0</td><td>0</td></tr>\n",
       "\t<tr><th scope=row>a00005</th><td>0</td><td>0</td><td>0</td><td>0</td></tr>\n",
       "\t<tr><th scope=row>a00006</th><td>0</td><td>0</td><td>0</td><td>0</td></tr>\n",
       "\t<tr><th scope=row>a00007</th><td>0</td><td>0</td><td>0</td><td>0</td></tr>\n",
       "\t<tr><th scope=row>a00008</th><td>0</td><td>0</td><td>0</td><td>0</td></tr>\n",
       "</tbody>\n",
       "</table>\n"
      ],
      "text/latex": [
       "A data.frame: 8 × 4\n",
       "\\begin{tabular}{r|llll}\n",
       "  & exp1 & exp2 & exp3 & exp4\\\\\n",
       "  & <dbl> & <dbl> & <dbl> & <dbl>\\\\\n",
       "\\hline\n",
       "\ta00001 & 0 & 0 & 0 & 0\\\\\n",
       "\ta00002 & 0 & 0 & 0 & 0\\\\\n",
       "\ta00003 & 0 & 0 & 0 & 0\\\\\n",
       "\ta00004 & 0 & 0 & 0 & 0\\\\\n",
       "\ta00005 & 0 & 0 & 0 & 0\\\\\n",
       "\ta00006 & 0 & 0 & 0 & 0\\\\\n",
       "\ta00007 & 0 & 0 & 0 & 0\\\\\n",
       "\ta00008 & 0 & 0 & 0 & 0\\\\\n",
       "\\end{tabular}\n"
      ],
      "text/markdown": [
       "\n",
       "A data.frame: 8 × 4\n",
       "\n",
       "| <!--/--> | exp1 &lt;dbl&gt; | exp2 &lt;dbl&gt; | exp3 &lt;dbl&gt; | exp4 &lt;dbl&gt; |\n",
       "|---|---|---|---|---|\n",
       "| a00001 | 0 | 0 | 0 | 0 |\n",
       "| a00002 | 0 | 0 | 0 | 0 |\n",
       "| a00003 | 0 | 0 | 0 | 0 |\n",
       "| a00004 | 0 | 0 | 0 | 0 |\n",
       "| a00005 | 0 | 0 | 0 | 0 |\n",
       "| a00006 | 0 | 0 | 0 | 0 |\n",
       "| a00007 | 0 | 0 | 0 | 0 |\n",
       "| a00008 | 0 | 0 | 0 | 0 |\n",
       "\n"
      ],
      "text/plain": [
       "       exp1 exp2 exp3 exp4\n",
       "a00001 0    0    0    0   \n",
       "a00002 0    0    0    0   \n",
       "a00003 0    0    0    0   \n",
       "a00004 0    0    0    0   \n",
       "a00005 0    0    0    0   \n",
       "a00006 0    0    0    0   \n",
       "a00007 0    0    0    0   \n",
       "a00008 0    0    0    0   "
      ]
     },
     "metadata": {},
     "output_type": "display_data"
    }
   ],
   "source": [
    "# creamos la nueva tabla\n",
    "# Creamos una matriz 0, con #genes filas y #experimentos columnas\n",
    "# Renombramos las filas a los nombres de los genes y las columnas a los nombres de las columnas\n",
    "tab2 <- data.frame(matrix(0, \n",
    "                           nrow = length(genes), \n",
    "                           ncol = length(experimentos),\n",
    "                           dimnames = list(genes, experimentos)))\n",
    "tab2"
   ]
  },
  {
   "cell_type": "code",
   "execution_count": 27,
   "id": "57926169-561c-4a5f-93fa-4b75f01e3a11",
   "metadata": {},
   "outputs": [
    {
     "data": {
      "text/html": [
       "<table class=\"dataframe\">\n",
       "<caption>A data.frame: 8 × 4</caption>\n",
       "<thead>\n",
       "\t<tr><th></th><th scope=col>exp1</th><th scope=col>exp2</th><th scope=col>exp3</th><th scope=col>exp4</th></tr>\n",
       "\t<tr><th></th><th scope=col>&lt;dbl&gt;</th><th scope=col>&lt;dbl&gt;</th><th scope=col>&lt;dbl&gt;</th><th scope=col>&lt;dbl&gt;</th></tr>\n",
       "</thead>\n",
       "<tbody>\n",
       "\t<tr><th scope=row>a00001</th><td>1</td><td>1</td><td>1</td><td>0</td></tr>\n",
       "\t<tr><th scope=row>a00002</th><td>1</td><td>0</td><td>1</td><td>0</td></tr>\n",
       "\t<tr><th scope=row>a00003</th><td>1</td><td>0</td><td>0</td><td>0</td></tr>\n",
       "\t<tr><th scope=row>a00004</th><td>1</td><td>0</td><td>1</td><td>0</td></tr>\n",
       "\t<tr><th scope=row>a00005</th><td>0</td><td>1</td><td>0</td><td>1</td></tr>\n",
       "\t<tr><th scope=row>a00006</th><td>0</td><td>1</td><td>0</td><td>1</td></tr>\n",
       "\t<tr><th scope=row>a00007</th><td>0</td><td>1</td><td>0</td><td>1</td></tr>\n",
       "\t<tr><th scope=row>a00008</th><td>0</td><td>0</td><td>1</td><td>1</td></tr>\n",
       "</tbody>\n",
       "</table>\n"
      ],
      "text/latex": [
       "A data.frame: 8 × 4\n",
       "\\begin{tabular}{r|llll}\n",
       "  & exp1 & exp2 & exp3 & exp4\\\\\n",
       "  & <dbl> & <dbl> & <dbl> & <dbl>\\\\\n",
       "\\hline\n",
       "\ta00001 & 1 & 1 & 1 & 0\\\\\n",
       "\ta00002 & 1 & 0 & 1 & 0\\\\\n",
       "\ta00003 & 1 & 0 & 0 & 0\\\\\n",
       "\ta00004 & 1 & 0 & 1 & 0\\\\\n",
       "\ta00005 & 0 & 1 & 0 & 1\\\\\n",
       "\ta00006 & 0 & 1 & 0 & 1\\\\\n",
       "\ta00007 & 0 & 1 & 0 & 1\\\\\n",
       "\ta00008 & 0 & 0 & 1 & 1\\\\\n",
       "\\end{tabular}\n"
      ],
      "text/markdown": [
       "\n",
       "A data.frame: 8 × 4\n",
       "\n",
       "| <!--/--> | exp1 &lt;dbl&gt; | exp2 &lt;dbl&gt; | exp3 &lt;dbl&gt; | exp4 &lt;dbl&gt; |\n",
       "|---|---|---|---|---|\n",
       "| a00001 | 1 | 1 | 1 | 0 |\n",
       "| a00002 | 1 | 0 | 1 | 0 |\n",
       "| a00003 | 1 | 0 | 0 | 0 |\n",
       "| a00004 | 1 | 0 | 1 | 0 |\n",
       "| a00005 | 0 | 1 | 0 | 1 |\n",
       "| a00006 | 0 | 1 | 0 | 1 |\n",
       "| a00007 | 0 | 1 | 0 | 1 |\n",
       "| a00008 | 0 | 0 | 1 | 1 |\n",
       "\n"
      ],
      "text/plain": [
       "       exp1 exp2 exp3 exp4\n",
       "a00001 1    1    1    0   \n",
       "a00002 1    0    1    0   \n",
       "a00003 1    0    0    0   \n",
       "a00004 1    0    1    0   \n",
       "a00005 0    1    0    1   \n",
       "a00006 0    1    0    1   \n",
       "a00007 0    1    0    1   \n",
       "a00008 0    0    1    1   "
      ]
     },
     "metadata": {},
     "output_type": "display_data"
    }
   ],
   "source": [
    "# llenamos la tabla2 con 1 en los genes que se detectan en cada experimento\n",
    "for (exp in experimentos) {\n",
    "    exp_genes = tab[, exp]\n",
    "    tab2[exp_genes, exp] = 1\n",
    "}\n",
    "tab2"
   ]
  }
 ],
 "metadata": {
  "kernelspec": {
   "display_name": "R",
   "language": "R",
   "name": "ir"
  },
  "language_info": {
   "codemirror_mode": "r",
   "file_extension": ".r",
   "mimetype": "text/x-r-source",
   "name": "R",
   "pygments_lexer": "r",
   "version": "4.4.3"
  }
 },
 "nbformat": 4,
 "nbformat_minor": 5
}
